{
  "nbformat": 4,
  "nbformat_minor": 0,
  "metadata": {
    "colab": {
      "provenance": []
    },
    "kernelspec": {
      "name": "python3",
      "display_name": "Python 3"
    },
    "language_info": {
      "name": "python"
    }
  },
  "cells": [
    {
      "cell_type": "markdown",
      "source": [
        "1 What is Python, and why is it popular ?\n",
        "\n",
        "-> Python is easy to learn language. As well it has large number of laibreris and a large comunity.Thats why python is a populer language."
      ],
      "metadata": {
        "id": "sOzd8DgSRlwc"
      }
    },
    {
      "cell_type": "markdown",
      "source": [
        "2  What is an interpreter in Python\n",
        "\n",
        "-> An interpreter is a program that reads and executes Python code line by line, instead of compiling the whole code at once (like a compiler does)."
      ],
      "metadata": {
        "id": "hFoUWkJKSIPh"
      }
    },
    {
      "cell_type": "markdown",
      "source": [
        "3 what are pre-defined keywords in Python\n",
        "\n",
        "-> Pre-defined keywords (also called reserved words) are special words that have specific meaning in Python.\n",
        "You cannot use them as variable names, function names, or identifiers because they are part of the language syntax."
      ],
      "metadata": {
        "id": "Zk3RSUw6SadO"
      }
    },
    {
      "cell_type": "markdown",
      "source": [
        "4.Can keywords be used as variable names\n",
        "\n",
        "-> No, We can not use the keywords as variable beacuse they are part of the language syntax."
      ],
      "metadata": {
        "id": "rUZ3NQtBSouA"
      }
    },
    {
      "cell_type": "markdown",
      "source": [
        "5 What is mutability in Python\n",
        "\n",
        "-> In python we can chnage some of objects after its creation. It called the mutability in python."
      ],
      "metadata": {
        "id": "__nUBmktTENM"
      }
    },
    {
      "cell_type": "markdown",
      "source": [
        "6  Why are lists mutable, but tuples are immutable?\n",
        "\n",
        "->In Python, lists are mutable because they are designed to store a collection of items that can change over time. You can modify a list by adding, removing, or changing its elements. This flexibility is useful when you need to work with dynamic data. On the other hand, tuples are immutable because they are meant to represent fixed collections of items that should not change once created. This immutability makes tuples more memory-efficient and allows them to be used as keys in dictionaries or stored in sets, which require their elements to be hashable. The choice to make lists mutable and tuples immutable is a design decision in Python to serve different purposes—lists for changeable data and tuples for fixed, unchangeable data."
      ],
      "metadata": {
        "id": "2gtMYKJDTgb-"
      }
    },
    {
      "cell_type": "markdown",
      "source": [
        "7 What is the difference between “==” and “is” operators in Python\n",
        "\n",
        "-> In Python, the == and is operators are used for comparisons, but they serve different purposes. The == operator checks whether the values of two variables are equal, meaning it compares the contents of the objects. For example, if two different lists contain the same elements, == will return True because their values match. On the other hand, the is operator checks whether two variables refer to the exact same object in memory, not just whether they look the same. Even if two variables contain identical data, is will return False if they are stored in different memory locations. Therefore, == is about equality of values, while is is about identity of objects."
      ],
      "metadata": {
        "id": "ZEg6oLUNT9FL"
      }
    },
    {
      "cell_type": "markdown",
      "source": [
        "8 What are logical operators in Python\n",
        "\n",
        "->\n",
        "In Python, logical operators are used to combine multiple conditions and make decisions based on whether those conditions are True or False. There are three main logical operators: and, or, and not. The and operator returns True only if both conditions are true. The or operator returns True if at least one condition is true. The not operator is used to reverse the result of a condition — it returns True if the condition is false, and False if the condition is true. These operators are often used in control statements like if to perform actions based on complex logical conditions. For example, in the expression if x > 5 and x < 10:, the code will execute only if both conditions are true."
      ],
      "metadata": {
        "id": "BUdpCxKJXNwJ"
      }
    },
    {
      "cell_type": "markdown",
      "source": [
        "9  What is type casting in Python\n",
        "\n",
        "-> Type casting in Python is converting a value from one data type to another, like changing a string to an integer or a float to a string. This is done using built-in functions such as int(), float(), and str(). For example, converting the string \"123\" to the number 123 allows you to perform arithmetic operations on it. Type casting helps ensure that data is in the correct format for different operations in a program."
      ],
      "metadata": {
        "id": "M3Xo_uXPX7kX"
      }
    },
    {
      "cell_type": "markdown",
      "source": [
        "10 What is the difference between implicit and explicit type casting\n",
        "\n",
        "-> In Python, the difference between implicit and explicit type casting is based on who performs the conversion. Implicit type casting happens automatically when Python converts one data type to another during operations. For example, if you add an integer and a float, Python automatically converts the integer to a float to avoid data loss. On the other hand, explicit type casting is done manually by the programmer using functions like int(), float(), or str(). This is used when you want to control the conversion process yourself, such as converting a string \"10\" to an integer using int(\"10\"). In short, implicit casting is automatic, while explicit casting is done intentionally by the programmer."
      ],
      "metadata": {
        "id": "-GSnIDyNYORy"
      }
    },
    {
      "cell_type": "markdown",
      "source": [
        "11 What is the purpose of conditional statements in Python\n",
        "\n",
        "-> The purpose of conditional statements in Python is to make decisions in a program based on certain conditions. They allow the program to execute specific blocks of code only when a given condition is true. This helps control the flow of the program and make it behave differently depending on different inputs or situations."
      ],
      "metadata": {
        "id": "-t9k5a5NnKKP"
      }
    },
    {
      "cell_type": "markdown",
      "source": [
        "12 How does the elif statement work\n",
        "\n",
        "-> The elif statement in Python stands for \"else if\" and is used to check multiple conditions after an initial if statement. It allows you to test several expressions one by one and execute the block of code that matches the first true condition."
      ],
      "metadata": {
        "id": "3L_IJDIopQYO"
      }
    },
    {
      "cell_type": "markdown",
      "source": [
        "13  What is the difference between for and while loops\n",
        "\n",
        "->The difference between a for loop and a while loop in Python lies in their usage and control. A for loop is used when you know in advance how many times you want to execute a block of code, typically by iterating over a sequence like a list, string, or a range of numbers. On the other hand, a while loop is used when you want to repeat a block of code as long as a certain condition remains true, and you may not know how many times it will run. In short, use a for loop for fixed repetitions and a while loop for condition-based repetition."
      ],
      "metadata": {
        "id": "8TMgOIwqpoJZ"
      }
    },
    {
      "cell_type": "markdown",
      "source": [
        "14 Describe a scenario where a while loop is more suitable than a for loop.\n",
        "\n",
        "-> A while loop is more suitable than a for loop in situations where the number of repetitions is not known in advance and depends on a condition. For example, if you are creating a program that keeps asking a user to enter the correct password, you don’t know how many attempts the user will take. In such cases, a while loop is ideal because it continues to run as long as the condition (wrong password) is true, and it stops automatically once the correct password is entered. This kind of condition-based repetition makes the while loop more appropriate than a for loop."
      ],
      "metadata": {
        "id": "z9abhbcuqDVK"
      }
    },
    {
      "cell_type": "markdown",
      "source": [
        "# Practical Questions"
      ],
      "metadata": {
        "id": "PcOpYUpHqS00"
      }
    },
    {
      "cell_type": "markdown",
      "source": [
        "1 Write a Python program to print \"Hello, World!"
      ],
      "metadata": {
        "id": "FoTvT8hrqZq3"
      }
    },
    {
      "cell_type": "code",
      "source": [
        "print (\"Hello, World!\")"
      ],
      "metadata": {
        "colab": {
          "base_uri": "https://localhost:8080/"
        },
        "id": "rbstAmKqqbJU",
        "outputId": "473787af-30c8-4802-e4be-d221eab5d41b"
      },
      "execution_count": null,
      "outputs": [
        {
          "output_type": "stream",
          "name": "stdout",
          "text": [
            "Hello, World!\n"
          ]
        }
      ]
    },
    {
      "cell_type": "markdown",
      "source": [
        "2 Write a Python program that displays your name and age"
      ],
      "metadata": {
        "id": "Xcy-0u5Bqlmi"
      }
    },
    {
      "cell_type": "code",
      "metadata": {
        "colab": {
          "base_uri": "https://localhost:8080/"
        },
        "id": "7ad8d4d0",
        "outputId": "0d509f70-ca0a-4805-bc06-02c88158656f"
      },
      "source": [
        "Name = \"abhishek\"\n",
        "age = 22\n",
        "print (Name)\n",
        "print (age)"
      ],
      "execution_count": null,
      "outputs": [
        {
          "output_type": "stream",
          "name": "stdout",
          "text": [
            "abhishek\n",
            "22\n"
          ]
        }
      ]
    },
    {
      "cell_type": "markdown",
      "source": [
        "3  Write code to print all the pre-defined keywords in Python using the keyword library8"
      ],
      "metadata": {
        "id": "KPyNzkxErqPW"
      }
    },
    {
      "cell_type": "code",
      "source": [
        "\n",
        "import keyword\n",
        "\n",
        "print(keyword.kwlist)"
      ],
      "metadata": {
        "colab": {
          "base_uri": "https://localhost:8080/"
        },
        "id": "0FXmYzYwrv17",
        "outputId": "ec268961-0c6a-456c-bf68-a591ea212473"
      },
      "execution_count": null,
      "outputs": [
        {
          "output_type": "stream",
          "name": "stdout",
          "text": [
            "['False', 'None', 'True', 'and', 'as', 'assert', 'async', 'await', 'break', 'class', 'continue', 'def', 'del', 'elif', 'else', 'except', 'finally', 'for', 'from', 'global', 'if', 'import', 'in', 'is', 'lambda', 'nonlocal', 'not', 'or', 'pass', 'raise', 'return', 'try', 'while', 'with', 'yield']\n"
          ]
        }
      ]
    },
    {
      "cell_type": "markdown",
      "source": [
        " 4 Write a program that checks if a given word is a Python keyword."
      ],
      "metadata": {
        "id": "K1lm8S1QsbOH"
      }
    },
    {
      "cell_type": "code",
      "source": [
        "import keyword\n",
        "word = input(\"enter a word:\")\n",
        "\n",
        "if keyword.iskeyword(word):\n",
        "  print(f\" 'word', is a python keyword\")\n",
        "else:\n",
        "    print(f\" 'word is not a python keyword\")"
      ],
      "metadata": {
        "colab": {
          "base_uri": "https://localhost:8080/"
        },
        "id": "r36nki9y0wTn",
        "outputId": "52dd6173-8296-40c8-f3ae-6779120b7d40"
      },
      "execution_count": null,
      "outputs": [
        {
          "output_type": "stream",
          "name": "stdout",
          "text": [
            "enter a word:as\n",
            " 'word', is a python keyword\n"
          ]
        }
      ]
    },
    {
      "cell_type": "markdown",
      "source": [
        " 5) Create a list and tuple in Python, and demonstrate how attempting to change an element works differently\n",
        "for each."
      ],
      "metadata": {
        "id": "nNAAgtHi2l8c"
      }
    },
    {
      "cell_type": "code",
      "source": [
        "# creating a list\n",
        "my_list = ['ram', 'sham', 'rohan']\n",
        "print (my_list)\n",
        "\n",
        "#chnageing element\n",
        "my_list[2] = 'pratiksha'\n",
        "print (my_list)\n",
        "\n",
        "#creating a tuple\n",
        "my_tuple = ('ram', 'sham', 'rohan')\n",
        "print (my_tuple)\n",
        "\n",
        "#chnageing element(this will cause a error)\n",
        "my_tuple[2] = 'pratiksha'\n",
        "print (my_tuple)"
      ],
      "metadata": {
        "id": "1agwaX4F2uLJ"
      },
      "execution_count": null,
      "outputs": []
    },
    {
      "cell_type": "markdown",
      "source": [
        "6 Write a function to demonstrate the behavior of mutable and immutable arguments"
      ],
      "metadata": {
        "id": "vGrhdPvTAR58"
      }
    },
    {
      "cell_type": "code",
      "source": [
        "def change_values(x, y):\n",
        "    x = x + 1         # x is int (immutable)\n",
        "    y.append(100)     # y is list (mutable)\n",
        "\n",
        "a = 5\n",
        "b = [1, 2, 3]\n",
        "\n",
        "change_values(a, b)\n",
        "\n",
        "print(a)  # Output: 5 (unchanged)\n",
        "print(b)  # Output: [1, 2, 3, 100] (changed)\n"
      ],
      "metadata": {
        "id": "3AZpiAjEAaGT",
        "colab": {
          "base_uri": "https://localhost:8080/"
        },
        "outputId": "ef19f8ba-d756-4305-bf0c-fb96ebe55184"
      },
      "execution_count": 4,
      "outputs": [
        {
          "output_type": "stream",
          "name": "stdout",
          "text": [
            "5\n",
            "[1, 2, 3, 100]\n"
          ]
        }
      ]
    },
    {
      "cell_type": "markdown",
      "source": [
        "7 Write a program that performs basic arithmetic operations on two user-input numbers."
      ],
      "metadata": {
        "id": "fkKWwTX6Ogeh"
      }
    },
    {
      "cell_type": "code",
      "source": [
        "num1 = float(input(\"enter a number:\"))\n",
        "num2 = float(input(\"enter a 2nd number:\"))\n",
        "add = num1 + num2\n",
        "sub = num1 - num2\n",
        "mul = num1 * num2\n",
        "div = num1 / num2\n",
        "print (add)\n",
        "print (sub)\n",
        "print (mul)\n",
        "print (div)\n",
        "\n"
      ],
      "metadata": {
        "colab": {
          "base_uri": "https://localhost:8080/"
        },
        "id": "-9XqbHKsSRFC",
        "outputId": "34e1cc47-6310-4598-c5e6-3399b8a28899"
      },
      "execution_count": 38,
      "outputs": [
        {
          "output_type": "stream",
          "name": "stdout",
          "text": [
            "enter a number:54\n",
            "enter a 2nd number:645\n",
            "699.0\n",
            "-591.0\n",
            "34830.0\n",
            "0.08372093023255814\n"
          ]
        }
      ]
    },
    {
      "cell_type": "markdown",
      "source": [
        "8 Write a program to demonstrate the use of logical operators."
      ],
      "metadata": {
        "id": "jFnvgBjaUmfi"
      }
    },
    {
      "cell_type": "code",
      "source": [
        "# Program forr and operator\n",
        "Age = int(input(\"Enter your Age: \"))\n",
        "print(f\"Age is: {Age}\")\n",
        "\n",
        "citizen = input(\"Are you a citizen: \")\n",
        "print(f\"User is citizen: {citizen}\")\n",
        "\n",
        "if Age > 18 and citizen == \"yes\":\n",
        "  print(\"You can vote\")\n",
        "else :\n",
        "  print(\"you can't vote\")\n",
        "\n",
        "# program for or operator\n",
        "if Age < 18 or citizen != \"Yes\":\n",
        "  print(\"you can't vote\")\n",
        "else:\n",
        "    print(\"you can vote\")\n",
        "\n",
        "\n",
        "# program for NOT operator\n",
        "if not (Age<= 18 and citizen == \"Yes\"):\n",
        "  print(\"you can vote\")\n",
        "else:\n",
        "  print(\"you can't vote\")"
      ],
      "metadata": {
        "colab": {
          "base_uri": "https://localhost:8080/"
        },
        "id": "uYls2sGdUq3x",
        "outputId": "a28c95cc-e57a-4103-cc13-e90df8f499e4"
      },
      "execution_count": 37,
      "outputs": [
        {
          "output_type": "stream",
          "name": "stdout",
          "text": [
            "Enter your Age: 23\n",
            "Age is: 23\n",
            "Are you a citizen: 23\n",
            "User is citizen: 23\n",
            "you can't vote\n",
            "you can't vote\n",
            "you can vote\n"
          ]
        }
      ]
    },
    {
      "cell_type": "markdown",
      "source": [
        "9  Write a Python program to convert user input from string to integer, float, and boolean types."
      ],
      "metadata": {
        "id": "1pWtNaFwao54"
      }
    },
    {
      "cell_type": "code",
      "source": [
        "inp = input(\"enter a number: \")\n",
        "num = int(inp)# string to int\n",
        "print(f\"number is: {num}\")\n",
        "print(type(inp))\n",
        "print(type(num))\n",
        "\n",
        "inp2 = input(\"enter a number: \")\n",
        "num = float(inp)# string to float\n",
        "print(f\"number is: {num}\")\n",
        "print(type(inp))\n",
        "print(type(num))\n",
        "\n",
        "inp3 = input(\"enter a number:\")\n",
        "num = bool(inp)# string to boolean\n",
        "print(f\"number is: {num}\")\n",
        "print(type(inp))\n",
        "print(type(num))\n"
      ],
      "metadata": {
        "colab": {
          "base_uri": "https://localhost:8080/"
        },
        "id": "3F-F6--Yaw80",
        "outputId": "2264ab8e-c404-42da-9976-f2a24393b204"
      },
      "execution_count": 35,
      "outputs": [
        {
          "output_type": "stream",
          "name": "stdout",
          "text": [
            "enter a number: 8735453\n",
            "number is: 8735453\n",
            "<class 'str'>\n",
            "<class 'int'>\n",
            "enter a number: 78482154\n",
            "number is: 8735453.0\n",
            "<class 'str'>\n",
            "<class 'float'>\n",
            "enter a number:4215478\n",
            "number is: True\n",
            "<class 'str'>\n",
            "<class 'bool'>\n"
          ]
        }
      ]
    },
    {
      "cell_type": "markdown",
      "source": [
        "10 Write code to demonstrate type casting with list elements."
      ],
      "metadata": {
        "id": "N3Gwnbf_ddKy"
      }
    },
    {
      "cell_type": "code",
      "source": [
        "str_list = [12, 23, 45, 87, \"34.5\", \"ram\"]\n",
        "\n",
        "for item in str_list:\n",
        "    # Check if the item is a number (int)\n",
        "    if type(item) == int:\n",
        "        print(float(item))  # Convert integer to float and print\n",
        "\n",
        "    # Check if the item is a string\n",
        "    elif type(item) == str:\n",
        "        # Try converting the whole string to float\n",
        "        try:\n",
        "            num = float(item)\n",
        "            print(num)\n",
        "        except:\n",
        "            print(f\"Cannot convert '{item}' to float\")\n",
        "\n",
        "\n"
      ],
      "metadata": {
        "colab": {
          "base_uri": "https://localhost:8080/"
        },
        "id": "ZH4J_p0YeCV_",
        "outputId": "4893b442-a476-4fdf-f2e5-66f1304ecb14"
      },
      "execution_count": 53,
      "outputs": [
        {
          "output_type": "stream",
          "name": "stdout",
          "text": [
            "12.0\n",
            "23.0\n",
            "45.0\n",
            "87.0\n",
            "34.5\n",
            "Cannot convert 'ram' to float\n"
          ]
        }
      ]
    },
    {
      "cell_type": "markdown",
      "source": [
        "11 Write a program that checks if a number is positive, negative, or zero."
      ],
      "metadata": {
        "id": "7PdY3t-GirPo"
      }
    },
    {
      "cell_type": "code",
      "source": [
        "num = float(input(\"Write a number:\"))\n",
        "print(\"Given number is\", (num))\n",
        "\n",
        "if num < 0:\n",
        "  print(\"Number is negitive\")\n",
        "elif num > 0:\n",
        "    print(\"number is positive\")\n",
        "else:\n",
        "  print(\"number is zero\")"
      ],
      "metadata": {
        "colab": {
          "base_uri": "https://localhost:8080/"
        },
        "id": "xjAgvOsTiwTK",
        "outputId": "49626c2d-1e7f-4fb9-dbdb-42c2a84aac3b"
      },
      "execution_count": 63,
      "outputs": [
        {
          "output_type": "stream",
          "name": "stdout",
          "text": [
            "Write a number:0\n",
            "Given number is 0.0\n",
            "number is zero\n"
          ]
        }
      ]
    },
    {
      "cell_type": "markdown",
      "source": [
        "12  Write a for loop to print numbers from 1 to 10."
      ],
      "metadata": {
        "id": "QDpB8XqflJMt"
      }
    },
    {
      "cell_type": "code",
      "source": [
        "for number in range (1, 11):\n",
        "  print(number)"
      ],
      "metadata": {
        "colab": {
          "base_uri": "https://localhost:8080/"
        },
        "id": "DV6s1_ZYlMtz",
        "outputId": "c119a89c-5410-4736-d4cb-8e39bc7136d9"
      },
      "execution_count": 70,
      "outputs": [
        {
          "output_type": "stream",
          "name": "stdout",
          "text": [
            "1\n",
            "2\n",
            "3\n",
            "4\n",
            "5\n",
            "6\n",
            "7\n",
            "8\n",
            "9\n",
            "10\n"
          ]
        }
      ]
    },
    {
      "cell_type": "markdown",
      "source": [
        "13  Write a Python program to find the sum of all even numbers between 1 and 50"
      ],
      "metadata": {
        "id": "zBRf3KRAma1d"
      }
    },
    {
      "cell_type": "code",
      "source": [
        "sum_even = 0\n",
        "for number in range (1, 51):\n",
        " if number % 2 == 0:\n",
        "  sum_even += number\n",
        "print(sum_even)"
      ],
      "metadata": {
        "colab": {
          "base_uri": "https://localhost:8080/"
        },
        "id": "m7pS_Th_mfD1",
        "outputId": "780586b4-0c1f-4a4c-9db0-21e67ca6a8af"
      },
      "execution_count": 73,
      "outputs": [
        {
          "output_type": "stream",
          "name": "stdout",
          "text": [
            "650\n"
          ]
        }
      ]
    },
    {
      "cell_type": "markdown",
      "source": [
        "14 Write a program to reverse a string using a while loop."
      ],
      "metadata": {
        "id": "NI8TmuA0nb7d"
      }
    },
    {
      "cell_type": "code",
      "source": [
        "# Get input from the user\n",
        "text = input(\"Enter a string: \")\n",
        "\n",
        "# Initialize variables\n",
        "reversed_text = \"\"\n",
        "index = len(text) - 1  # start from the last character\n",
        "\n",
        "# Loop until index goes below 0\n",
        "while index >= 0:\n",
        "    reversed_text += text[index]  # add current character\n",
        "    index -= 1                    # move to previous character\n",
        "\n",
        "# Print the reversed string\n",
        "print(\"Reversed string:\", reversed_text)\n"
      ],
      "metadata": {
        "colab": {
          "base_uri": "https://localhost:8080/"
        },
        "id": "kn6Eyecknf2U",
        "outputId": "f6a03b08-2a39-4de2-a3eb-d4e8352eb03b"
      },
      "execution_count": 74,
      "outputs": [
        {
          "output_type": "stream",
          "name": "stdout",
          "text": [
            "Enter a string: ser\n",
            "Reversed string: res\n"
          ]
        }
      ]
    },
    {
      "cell_type": "markdown",
      "source": [
        "15 Write a Python program to calculate the factorial of a number provided by the user using a while loop."
      ],
      "metadata": {
        "id": "IAV6ZIz1n0fq"
      }
    },
    {
      "cell_type": "code",
      "source": [
        "\n",
        "# Take input from the user\n",
        "num = int(input(\"Enter a non-negative integer: \"))\n",
        "\n",
        "factorial = 1\n",
        "i = 1\n",
        "\n",
        "# Calculate factorial using while loop\n",
        "while i <= num:\n",
        "    factorial = factorial * i\n",
        "    i += 1\n",
        "\n",
        "print(f\"The factorial of {num} is {factorial}\")\n",
        "\n"
      ],
      "metadata": {
        "colab": {
          "base_uri": "https://localhost:8080/"
        },
        "id": "cJmz9S0CoG75",
        "outputId": "644cad52-b4b7-419d-9811-3f85eb409cb8"
      },
      "execution_count": 76,
      "outputs": [
        {
          "output_type": "stream",
          "name": "stdout",
          "text": [
            "Enter a non-negative integer: 23\n",
            "The factorial of 23 is 25852016738884976640000\n"
          ]
        }
      ]
    }
  ]
}